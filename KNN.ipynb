{
  "nbformat": 4,
  "nbformat_minor": 0,
  "metadata": {
    "colab": {
      "provenance": []
    },
    "kernelspec": {
      "name": "python3",
      "display_name": "Python 3"
    },
    "language_info": {
      "name": "python"
    }
  },
  "cells": [
    {
      "cell_type": "code",
      "execution_count": null,
      "metadata": {
        "id": "O1UO-gRO4tuw"
      },
      "outputs": [],
      "source": [
        "#Importing Libraries\n",
        "\n",
        "import numpy as np\n",
        "import pandas as pd\n",
        "\n",
        "# To split dataset into its attributes and labels.\n",
        "\n",
        "dataset=pd.read_csv(\"knndata.csv\")\n",
        "X=dataset.iloc[:,:-1].values\n",
        "print(X)\n",
        "Y=dataset.iloc[:,2].values\n",
        "print(Y)\n",
        "\n",
        "# Training of KNN Classification Model using trained data\n",
        "\n",
        "from sklearn.neighbors import KNeighborsClassifier\n",
        "classifier = KNeighborsClassifier(n_neighbors=3)\n",
        "classifier.fit(X,Y)\n",
        "\n",
        "# Testing  KNN Classification Model using unseen test data\n",
        "\n",
        "X_test=np.array([6,6])\n",
        "y_pred = classifier.predict([X_test])\n",
        "print ('The predicition of classifier is :', y_pred)\n",
        "classifier = KNeighborsClassifier(n_neighbors=3,weights='distance')\n",
        "classifier.fit(X,Y)\n",
        "# predict the class for points(6,6)\n",
        "X_test=np.array([6,6])\n",
        "y_pred = classifier.predict([X_test])\n",
        "print ('The predicition of classifier is :', y_pred)\n"
      ]
    }
  ]
}