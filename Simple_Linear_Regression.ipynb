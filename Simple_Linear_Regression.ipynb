{
  "nbformat": 4,
  "nbformat_minor": 0,
  "metadata": {
    "colab": {
      "provenance": []
    },
    "kernelspec": {
      "name": "python3",
      "display_name": "Python 3"
    },
    "language_info": {
      "name": "python"
    }
  },
  "cells": [
    {
      "cell_type": "code",
      "source": [
        "import numpy as np\n",
        "import pandas as pd\n",
        "import matplotlib.pyplot as plt\n",
        "\n",
        "my_dict = {\n",
        "    'height': [151, 174, 138, 186, 128, 136, 179, 163, 152, 131],\n",
        "    'weight': [63, 81, 56, 91, 47, 57, 76, 72, 62, 48]\n",
        "}\n",
        "\n",
        "dataset= pd.DataFrame(my_dict)\n",
        "dataset.head()\n",
        "\n",
        "x=dataset.iloc[:,:-1].values\n",
        "X=dataset.iloc[:,:-1].values\n",
        "y=dataset.iloc[:,1].values\n",
        "print(X)\n",
        "print(y)\n",
        "#from sklearn subpackage import linear regression model\n",
        "from sklearn.linear_model import LinearRegression\n",
        "regressor=LinearRegression()\n",
        "regressor.fit(X,y)\n",
        "#To get the slop\n",
        "regressor.coef_\n",
        "#To get the y intercept\n",
        "regressor.intercept_\n",
        "#To print the equation of line\n",
        "print(\"y= \"+ str(regressor.coef_) + \"X + \" + str(regressor.intercept_))\n",
        "\n",
        "#To get the slop\n",
        "print(\"Accuracy:\",regressor.score(X,y)*100)\n",
        "#To plot graph\n",
        "plt.plot(X,y,'o')\n",
        "plt.plot(X,regressor.predict(X));\n",
        "plt.show()\n",
        "predict_x=int(input('Enter Height:'))\n",
        "predict_y=(0.67461045*predict_x)-38.45508707607698\n",
        "plt.scatter(X,y)\n",
        "plt.scatter(predict_x,predict_y)\n",
        "plt.xlabel('Enter Height:(Predicted_x)')\n",
        "plt.ylabel('Enter Weight:(Predicted_y)')\n",
        "#plotting the Predicted regression line\n",
        "plt.plot(X,regressor.predict(X),color='green');\n",
        "plt.show()"
      ],
      "metadata": {
        "id": "2RBzKLRxPnSS"
      },
      "execution_count": null,
      "outputs": []
    },
    {
      "cell_type": "code",
      "source": [],
      "metadata": {
        "id": "ISoL1P7RPpKQ"
      },
      "execution_count": null,
      "outputs": []
    },
    {
      "cell_type": "code",
      "execution_count": null,
      "metadata": {
        "id": "1AucYxtj4AdZ"
      },
      "outputs": [],
      "source": [
        "#STEP-4: Read file as panda dataframe\n",
        "import pandas as pd\n",
        "xyz = pd.read_csv('hw.csv')\n",
        "print(xyz.head(5))\n",
        "\n",
        "#step-5 :Running Actual Program(SLR)\n",
        "import numpy as np\n",
        "import matplotlib.pyplot as plt\n",
        "import pandas as pd\n",
        "\n",
        "#Load dataset\n",
        "dataset=pd.read_csv(\"hw.csv\")\n",
        "# To display dataset\n",
        "print(dataset)\n",
        "x=dataset.iloc[:,:-1].values\n",
        "X=dataset.iloc[:,:-1].values\n",
        "y=dataset.iloc[:,1].values\n",
        "print(X)\n",
        "print(y)\n",
        "#from sklearn subpackage import linear regression model\n",
        "from sklearn.linear_model import LinearRegression\n",
        "regressor=LinearRegression()\n",
        "regressor.fit(X,y)\n",
        "#To get the slop\n",
        "regressor.coef_\n",
        "#To get the y intercept\n",
        "regressor.intercept_\n",
        "#To print the equation of line\n",
        "print(\"y= \"+ str(regressor.coef_) + \"X + \" + str(regressor.intercept_))\n",
        "\n",
        "#To get the slop\n",
        "print(\"Accuracy:\",regressor.score(X,y)*100)\n",
        "#To plot graph\n",
        "plt.plot(X,y,'o')\n",
        "plt.plot(X,regressor.predict(X));\n",
        "plt.show()\n",
        "predict_x=int(input('Enter Height:'))\n",
        "predict_y=(0.67461045*predict_x)-38.45508707607698\n",
        "plt.scatter(X,y)\n",
        "plt.scatter(predict_x,predict_y)\n",
        "plt.xlabel('Enter Height:(Predicted_x)')\n",
        "plt.ylabel('Enter Weight:(Predicted_y)')\n",
        "#plotting the Predicted regression line\n",
        "plt.plot(X,regressor.predict(X),color='green');\n",
        "plt.show()\n"
      ]
    }
  ]
}